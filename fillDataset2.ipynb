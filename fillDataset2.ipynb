{
 "cells": [
  {
   "cell_type": "code",
   "execution_count": null,
   "metadata": {},
   "outputs": [],
   "source": [
    "\n",
    "# Paths\n",
    "normal_music_path = 'D:/Github/Music/Musics/Normal'\n",
    "lofi_music_path = 'D:/Github/Music/Musics/Lofi'\n",
    "\n",
    "# parâmetros para o espectrograma de Mel\n",
    "n_fft = 2048\n",
    "hop_length = 512\n",
    "n_mels = 128\n",
    "\n",
    "csv_file = 'mel_spectrogram_pairs.csv'\n",
    "header = ['normal', 'lofi']\n",
    "mel_spectrogram_pairs = []\n",
    "\n",
    "# percorra todas as músicas na pasta Normal\n",
    "for filename in os.listdir(normal_music_path):\n",
    "    if filename.endswith('.mp3'):  # Verifica se é um arquivo de música\n",
    "        normal_music_file = os.path.join(normal_music_path, filename)\n",
    "        normal_music_file = normal_music_file.replace('\\\\', '/')  # substituir barra invertida por barra\n",
    "\n",
    "        lofi_music_file = os.path.join(lofi_music_path, filename)\n",
    "        lofi_music_file = lofi_music_file.replace('\\\\', '/')  # substituir barra invertida por barra\n",
    "\n",
    "        # carregue a música normal\n",
    "        normal_y, normal_sr = librosa.load(normal_music_file)\n",
    "\n",
    "        # gere o espectrograma de Mel para a música normal\n",
    "        normal_mel_spectrogram = librosa.feature.melspectrogram(y=normal_y, sr=normal_sr, n_fft=n_fft, hop_length=hop_length, n_mels=n_mels)\n",
    "        normal_mel_spectrogram = normal_mel_spectrogram.tolist()  # converte a matriz numpy em uma lista\n",
    "\n",
    "        # carregue a música lofi\n",
    "        lofi_y, lofi_sr = librosa.load(lofi_music_file)\n",
    "\n",
    "        # gere o espectrograma de Mel para a música lofi\n",
    "        lofi_mel_spectrogram = librosa.feature.melspectrogram(y=lofi_y, sr=lofi_sr, n_fft=n_fft, hop_length=hop_length, n_mels=n_mels)\n",
    "        lofi_mel_spectrogram = lofi_mel_spectrogram.tolist()  # converte a matriz numpy em uma lista\n",
    "        print(len(normal_mel_spectrogram), len(lofi_mel_spectrogram))\n",
    "        print(len(normal_mel_spectrogram[0]), len(lofi_mel_spectrogram[0]))\n",
    "        # adicione o par de espectrogramas à lista\n",
    "        mel_spectrogram_pairs.append([normal_mel_spectrogram, lofi_mel_spectrogram])\n",
    "\n",
    "# salve a lista de pares de espectrogramas em um arquivo csv\n",
    "df = pd.DataFrame(mel_spectrogram_pairs, columns=header)\n",
    "df.to_csv(csv_file, sep=';', index=False)"
   ]
  }
 ],
 "metadata": {
  "language_info": {
   "name": "python"
  },
  "orig_nbformat": 4
 },
 "nbformat": 4,
 "nbformat_minor": 2
}
