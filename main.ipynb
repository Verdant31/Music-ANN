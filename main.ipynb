{
 "cells": [
  {
   "cell_type": "code",
   "execution_count": 2,
   "metadata": {},
   "outputs": [],
   "source": [
    "import csv\n",
    "import os\n",
    "import librosa\n",
    "import numpy as np\n",
    "import tensorflow as tf\n",
    "import pandas as pd"
   ]
  },
  {
   "cell_type": "code",
   "execution_count": null,
   "metadata": {},
   "outputs": [],
   "source": []
  },
  {
   "cell_type": "code",
   "execution_count": 11,
   "metadata": {},
   "outputs": [
    {
     "name": "stdout",
     "output_type": "stream",
     "text": [
      "(128, 8509)\n",
      "1089152\n"
     ]
    }
   ],
   "source": [
    "data = pd.read_csv('mel_spectrogram_pairs.csv', sep = ';')\n",
    "\n",
    "# Separando atributos e resultados\n",
    "x = data.drop(columns = ['lofi'])\n",
    "y = data['lofi']\n",
    "countX = 0\n",
    "\n",
    "for data in range(len(x)):\n",
    "    row = x.iloc[countX][0]\n",
    "    row = eval(row)\n",
    "    row = np.array(row)\n",
    "    x.iloc[countX] = row.ravel()\n",
    "    countX += 1\n",
    "# x.iloc[0] = 1\n",
    "\n",
    "    \n",
    "# print(x)\n",
    "# print(y)"
   ]
  },
  {
   "cell_type": "code",
   "execution_count": null,
   "metadata": {},
   "outputs": [],
   "source": [
    "# Normalização"
   ]
  },
  {
   "cell_type": "code",
   "execution_count": null,
   "metadata": {},
   "outputs": [],
   "source": [
    "from sklearn.model_selection import train_test_split\n",
    "x_train, x_test, y_train, y_test = train_test_split(x, y, test_size=0.1)\n",
    "# Verificando os dados\n",
    "print(\"Quantidade de Dados de Treino:\" ,len(x_train))\n",
    "print(\"Quantidade de Dados de Teste:\" ,len(x_test))\n",
    "\n",
    "print(\"Quantidade de Dados de Treino e dos atributos:\" ,x_train.shape)\n",
    "print(\"Quantidade de Dados de Teste e dos atributos\" ,x_test.shape)\n",
    "\n",
    "print(\"Quantidade de Saidas de Treino e coluna:\" ,y_train.shape)\n",
    "print(\"Quantidade de Saidas de Teste e coluna:\" ,y_test.shape)\n",
    "\n",
    "print(\"min: \", y_train.min())\n",
    "print(\"max: \", y_test.max())"
   ]
  },
  {
   "cell_type": "code",
   "execution_count": null,
   "metadata": {},
   "outputs": [],
   "source": [
    "# Criando o modelo da rede neural\n",
    "from keras.utils import to_categorical\n",
    "from tensorflow import keras\n",
    "\n",
    "modelo = keras.Sequential([\n",
    "  keras.layers.Dense(250, activation=tf.nn.relu, input_shape =(8509, )),\n",
    "  keras.layers.Dense(150, activation=tf.nn.relu),\n",
    "  keras.layers.Dense(50, activation=tf.nn.relu),\n",
    "  keras.layers.Dense(110, activation=tf.nn.relu),\n",
    "  keras.layers.Dense(80, activation=tf.nn.relu),\n",
    "  keras.layers.Dense(8509, activation=tf.nn.softmax)\n",
    "])\n",
    "modelo.compile(optimizer='adam', loss='categorical_crossentropy', metrics=['accuracy'])\n"
   ]
  },
  {
   "cell_type": "code",
   "execution_count": null,
   "metadata": {},
   "outputs": [],
   "source": [
    "# Treinando o modelo\n",
    "x = modelo.fit(x_train, y_train, epochs=10, batch_size=32, validation_data=(x_test, y_test))\n",
    "test_loss, test_accuracy = modelo.evaluate(x_test, y_test)\n",
    "print('Test accuracy:', test_accuracy)\n",
    "print('Test loss:', test_loss)\n"
   ]
  }
 ],
 "metadata": {
  "kernelspec": {
   "display_name": "tf",
   "language": "python",
   "name": "python3"
  },
  "language_info": {
   "codemirror_mode": {
    "name": "ipython",
    "version": 3
   },
   "file_extension": ".py",
   "mimetype": "text/x-python",
   "name": "python",
   "nbconvert_exporter": "python",
   "pygments_lexer": "ipython3",
   "version": "3.10.9"
  },
  "orig_nbformat": 4,
  "vscode": {
   "interpreter": {
    "hash": "4e7088438fe8bd44d923fe001e014e24227399c34cfc765da565eeb03b1a8a7c"
   }
  }
 },
 "nbformat": 4,
 "nbformat_minor": 2
}
