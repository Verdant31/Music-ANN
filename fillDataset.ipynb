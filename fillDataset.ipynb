{
 "cells": [
  {
   "cell_type": "code",
   "execution_count": null,
   "metadata": {},
   "outputs": [],
   "source": [
    "# Importing libraries\n",
    "import os\n",
    "import librosa\n",
    "import pandas as pd"
   ]
  },
  {
   "cell_type": "code",
   "execution_count": 16,
   "metadata": {},
   "outputs": [],
   "source": [
    "\n",
    "# Paths\n",
    "normal_music_path = 'D:/music-ann/Musics/Normal'\n",
    "lofi_music_path = 'D:/music-ann/Musics/Lofi'\n",
    "\n",
    "# parâmetros para o espectrograma de Mel\n",
    "n_fft = 2048\n",
    "hop_length = 512\n",
    "n_mels = 128\n",
    "\n",
    "csv_file = 'mel_spectrogram_pairs.csv'\n",
    "header = ['normal', 'lofi']\n",
    "mel_spectrogram_pairs = []\n",
    "\n",
    "for filename in os.listdir(normal_music_path):\n",
    "    if filename.endswith('.mp3'):\n",
    "        normal_music_file = os.path.join(normal_music_path, filename)\n",
    "        normal_music_file = normal_music_file.replace('\\\\', '/')  \n",
    "\n",
    "        lofi_music_file = os.path.join(lofi_music_path, filename)\n",
    "        lofi_music_file = lofi_music_file.replace('\\\\', '/')  \n",
    "\n",
    "        normal_y, normal_sr = librosa.load(normal_music_file)\n",
    "        lofi_y, lofi_sr = librosa.load(lofi_music_file)\n",
    "\n",
    "\n",
    "        normal_mel_spectrogram = librosa.feature.melspectrogram(y=normal_y, sr=normal_sr, n_fft=n_fft, hop_length=hop_length, n_mels=n_mels)\n",
    "        normal_mel_spectrogram = librosa.util.fix_length(normal_mel_spectrogram, size=8509, axis=1)\n",
    "        normal_mel_spectrogram = normal_mel_spectrogram.tolist()  \n",
    "\n",
    "\n",
    "        lofi_mel_spectrogram = librosa.feature.melspectrogram(y=lofi_y, sr=lofi_sr, n_fft=n_fft, hop_length=hop_length, n_mels=n_mels)\n",
    "        lofi_mel_spectrogram = librosa.util.fix_length(lofi_mel_spectrogram,  size=8509, axis=1)\n",
    "        lofi_mel_spectrogram = lofi_mel_spectrogram.tolist()  \n",
    "\n",
    "        mel_spectrogram_pairs.append([normal_mel_spectrogram, lofi_mel_spectrogram])\n",
    "\n",
    "df = pd.DataFrame(mel_spectrogram_pairs, columns=header)\n",
    "df.to_csv(csv_file, sep=';', index=False)"
   ]
  }
 ],
 "metadata": {
  "kernelspec": {
   "display_name": "tf",
   "language": "python",
   "name": "python3"
  },
  "language_info": {
   "codemirror_mode": {
    "name": "ipython",
    "version": 3
   },
   "file_extension": ".py",
   "mimetype": "text/x-python",
   "name": "python",
   "nbconvert_exporter": "python",
   "pygments_lexer": "ipython3",
   "version": "3.11.4"
  },
  "orig_nbformat": 4,
  "vscode": {
   "interpreter": {
    "hash": "4e7088438fe8bd44d923fe001e014e24227399c34cfc765da565eeb03b1a8a7c"
   }
  }
 },
 "nbformat": 4,
 "nbformat_minor": 2
}
