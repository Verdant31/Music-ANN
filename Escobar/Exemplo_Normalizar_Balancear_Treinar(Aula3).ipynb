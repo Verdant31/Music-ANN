{
  "cells": [
    {
      "cell_type": "code",
      "execution_count": null,
      "metadata": {
        "id": "1n2genuYTyNG"
      },
      "outputs": [],
      "source": [
        "#CLASSIFICADORES\n",
        "#Pipeline (sequencia de procedimentos)\n",
        "#1. Normalizar\n",
        "#2. Balancear\n",
        "#3. Determinar os hiperparâmetros (para 28/11)\n",
        "#4. Treinar o modelo\n",
        "#5. Avaliar a acurácia do modelo\n"
      ]
    },
    {
      "cell_type": "code",
      "execution_count": 7,
      "metadata": {
        "colab": {
          "base_uri": "https://localhost:8080/"
        },
        "id": "WZkvVNi3aRfX",
        "outputId": "d39e4694-2f6e-403a-a340-0dc49ae3846d"
      },
      "outputs": [
        {
          "name": "stdout",
          "output_type": "stream",
          "text": [
            "Index(['preg', 'plas', 'pres', 'skin', 'insu', 'mass', 'pedi', 'age', 'class'], dtype='object')\n"
          ]
        }
      ],
      "source": [
        "#0 Abrir os dados\n",
        "import pandas as pd\n",
        "#Segmentar em atributos e classes\n",
        "dados = pd.read_csv('./diabetes.csv') \n",
        "dados_atributos = dados.drop(columns=['class'])\n",
        "dados_classes = dados['class']\n",
        "print(dados.columns)"
      ]
    },
    {
      "cell_type": "code",
      "execution_count": 3,
      "metadata": {
        "id": "21kB-IlIWjeK"
      },
      "outputs": [],
      "source": [
        "#1.Normalizar\n",
        "from sklearn.preprocessing import MinMaxScaler\n",
        "normalizador= MinMaxScaler()\n",
        "#1.1 Obter o modelo de normalização - métod fit()\n",
        "modelo_normalizador_diabetes = normalizador.fit(dados_atributos)\n",
        "#1.2 Salvar o modelo normalizador para uso posterior\n",
        "from pickle import dump\n",
        "dump(modelo_normalizador_diabetes, open('modelo_normalizador_diabetes.pkl', 'wb'))\n"
      ]
    },
    {
      "cell_type": "code",
      "execution_count": null,
      "metadata": {
        "id": "qvQtzxxgy0dr"
      },
      "outputs": [],
      "source": [
        "\n",
        "#1.3 Normalizar os dados originais - método fit_transform()\n",
        "dados_atributos_normalizados = normalizador.fit_transform(dados_atributos)\n",
        "\n",
        "dados_atributos_normalizados"
      ]
    },
    {
      "cell_type": "code",
      "execution_count": null,
      "metadata": {
        "id": "m1PLsxmBzJS7"
      },
      "outputs": [],
      "source": [
        "#1.4 Reconstituir os dados para o formato Data Frame\n",
        "dados_atributos_normalizados = pd.DataFrame(dados_atributos_normalizados, columns=dados_atributos.columns)\n",
        "dados_atributos_normalizados"
      ]
    },
    {
      "cell_type": "code",
      "execution_count": null,
      "metadata": {
        "colab": {
          "base_uri": "https://localhost:8080/"
        },
        "id": "-iu2cj4PYb5X",
        "outputId": "e3428c66-96cb-4c76-9367-102e571f0e38"
      },
      "outputs": [
        {
          "name": "stdout",
          "output_type": "stream",
          "text": [
            "Frequencia original das classes:\n",
            " tested_negative    500\n",
            "tested_positive    268\n",
            "Name: class, dtype: int64\n",
            "Frequencia balanceada das classes:\n",
            " tested_negative    500\n",
            "tested_positive    500\n",
            "Name: class, dtype: int64\n"
          ]
        }
      ],
      "source": [
        "#2 Balancear os dados\n",
        "#Frequencia original das classes\n",
        "print('Frequencia original das classes:\\n', dados_classes.value_counts())\n",
        "from imblearn.over_sampling import  SMOTE\n",
        "#Construir o balanceador\n",
        "resampler = SMOTE()\n",
        "dados_atributos_b, dados_classes_b = resampler.fit_resample(dados_atributos_normalizados, dados_classes)\n",
        "print('Frequencia balanceada das classes:\\n', dados_classes_b.value_counts())"
      ]
    },
    {
      "cell_type": "code",
      "execution_count": null,
      "metadata": {
        "colab": {
          "base_uri": "https://localhost:8080/"
        },
        "id": "XC9eQPwMWR6g",
        "outputId": "278512a1-cd15-41ca-9827-34b6b399b865"
      },
      "outputs": [
        {
          "name": "stdout",
          "output_type": "stream",
          "text": [
            "Clasess Tree: ['tested_negative' 'tested_positive']\n",
            "Clasess RD: ['tested_negative' 'tested_positive']\n"
          ]
        }
      ],
      "source": [
        "\n",
        "\n",
        "#\n",
        "#4. Treinar o modelo\n",
        "#Os testes do modelo serão aplicados com Hold Out: Técnica em que os dados são divididos em segmento para treinamento e segmento para testes (70% para treinamento / 30% para testes)\n",
        "#Segmentar a base em dados para treinamento e dados para testes\n",
        "from sklearn.model_selection import train_test_split\n",
        "atributos_train, atributos_test, classes_train, classes_test = train_test_split(dados_atributos_b,dados_classes_b, test_size = 0.3)\n",
        "\n",
        "#Importar o indutor\n",
        "from sklearn.tree import DecisionTreeClassifier\n",
        "tree = DecisionTreeClassifier() #Intanciar um objeto a partir do indutor selecionado\n",
        "from sklearn.ensemble import RandomForestClassifier\n",
        "rf = RandomForestClassifier()\n",
        "\n",
        "\n",
        "#Treinar o modelo\n",
        "diabetes_tree = tree.fit(atributos_train, classes_train)\n",
        "diabetes_rf = rf.fit(atributos_train, classes_train)\n",
        "\n",
        "#Vizializar as classes dentro do modelo obtido\n",
        "print('Clasess Tree:', diabetes_tree.classes_)\n",
        "print('Clasess RD:', diabetes_tree.classes_)\n",
        "\n",
        "#Pretestar o modelo\n",
        "#Inferir as classes para os atributos reservados para teste\n",
        "diabetes_test_tree = diabetes_tree.predict(atributos_test)\n",
        "diabetes_test_rf = diabetes_rf.predict(atributos_test)\n",
        "\n",
        "#O objeto diabetes_test contem os resultados das classes inferidas pelo modelo levando em consideração os atributos separas para testes\n"
      ]
    },
    {
      "cell_type": "code",
      "execution_count": null,
      "metadata": {
        "colab": {
          "base_uri": "https://localhost:8080/"
        },
        "id": "mcui7eONaTgi",
        "outputId": "aa506dcf-58ce-4332-d8d5-42a0a4d80873"
      },
      "outputs": [
        {
          "name": "stdout",
          "output_type": "stream",
          "text": [
            "Acurácia global (tree): 0.7266666666666667\n",
            "Acurácia global (rf): 0.8333333333333334\n"
          ]
        }
      ],
      "source": [
        "#5. AVALIAR A ACURÁCIA DO MODELO\n",
        "from sklearn import metrics\n",
        "print('Acurácia global (tree):', metrics.accuracy_score(classes_test,diabetes_test_tree))\n",
        "print('Acurácia global (rf):', metrics.accuracy_score(classes_test,diabetes_test_rf))"
      ]
    },
    {
      "cell_type": "code",
      "execution_count": null,
      "metadata": {
        "colab": {
          "base_uri": "https://localhost:8080/",
          "height": 368
        },
        "id": "5-M3AMXKb7mb",
        "outputId": "e1689ffb-add4-40d0-d5b0-6c9ef27c637d"
      },
      "outputs": [
        {
          "name": "stderr",
          "output_type": "stream",
          "text": [
            "/usr/local/lib/python3.7/dist-packages/sklearn/utils/deprecation.py:87: FutureWarning: Function plot_confusion_matrix is deprecated; Function `plot_confusion_matrix` is deprecated in 1.0 and will be removed in 1.2. Use one of the class methods: ConfusionMatrixDisplay.from_predictions or ConfusionMatrixDisplay.from_estimator.\n",
            "  warnings.warn(msg, category=FutureWarning)\n"
          ]
        },
        {
          "name": "stdout",
          "output_type": "stream",
          "text": [
            "[[76 73]\n",
            " [77 74]]\n"
          ]
        },
        {
          "data": {
            "image/png": "[encoded data removed]",
            "text/plain": [
              "<Figure size 432x288 with 2 Axes>"
            ]
          },
          "metadata": {
            "needs_background": "light"
          },
          "output_type": "display_data"
        }
      ],
      "source": [
        "#MATRIZ DE CONTINGÊNCIA TREE\n",
        "import matplotlib.pyplot as plt\n",
        "from sklearn.metrics import plot_confusion_matrix #para o gráfico\n",
        "from sklearn.metrics import confusion_matrix\n",
        "plot_confusion_matrix(diabetes_tree, atributos_test, classes_test)\n",
        "plt.show\n",
        "#Imprimir a matriz de contingência\n",
        "print(confusion_matrix(classes_test, specie_test,labels = iris_tree.classes_))"
      ]
    },
    {
      "cell_type": "code",
      "execution_count": null,
      "metadata": {
        "colab": {
          "base_uri": "https://localhost:8080/",
          "height": 367
        },
        "id": "ez0g9t_rdsJo",
        "outputId": "a878ec15-afcd-47fb-c359-72db4a364453"
      },
      "outputs": [
        {
          "name": "stderr",
          "output_type": "stream",
          "text": [
            "/usr/local/lib/python3.7/dist-packages/sklearn/utils/deprecation.py:87: FutureWarning: Function plot_confusion_matrix is deprecated; Function `plot_confusion_matrix` is deprecated in 1.0 and will be removed in 1.2. Use one of the class methods: ConfusionMatrixDisplay.from_predictions or ConfusionMatrixDisplay.from_estimator.\n",
            "  warnings.warn(msg, category=FutureWarning)\n"
          ]
        },
        {
          "name": "stdout",
          "output_type": "stream",
          "text": [
            "[[76 73]\n",
            " [77 74]]\n"
          ]
        },
        {
          "data": {
            "image/png": "[encoded data removed]",
            "text/plain": [
              "<Figure size 432x288 with 2 Axes>"
            ]
          },
          "metadata": {
            "needs_background": "light"
          },
          "output_type": "display_data"
        }
      ],
      "source": [
        "#MATRIZ DE CONTINGÊNCIA RANDOM FOREST\n",
        "import matplotlib.pyplot as plt\n",
        "from sklearn.metrics import plot_confusion_matrix #para o gráfico\n",
        "from sklearn.metrics import confusion_matrix\n",
        "plot_confusion_matrix(diabetes_rf, atributos_test, classes_test)\n",
        "plt.show\n",
        "#Imprimir a matriz de contingência\n",
        "print(confusion_matrix(classes_test, specie_test,labels = iris_tree.classes_))"
      ]
    },
    {
      "cell_type": "code",
      "execution_count": null,
      "metadata": {
        "id": "EAI8aBMZcSxz"
      },
      "outputs": [],
      "source": [
        "#SALVAR O melhor MODELO PARA USO POSTERIOR\n",
        "from pickle import dump\n",
        "dump(diabetes_rf,open('diabetes_rf_model_1.pkl','wb'))"
      ]
    },
    {
      "cell_type": "code",
      "execution_count": null,
      "metadata": {
        "colab": {
          "base_uri": "https://localhost:8080/"
        },
        "id": "Wt7nktWadVIF",
        "outputId": "96eaddd7-92bf-409c-bd21-20c31a350f10"
      },
      "outputs": [
        {
          "name": "stdout",
          "output_type": "stream",
          "text": [
            "['Iris-virginica']\n",
            "Distribuição probabilística\n",
            "[[0. 0. 1.]]\n",
            "['Iris-setosa' 'Iris-versicolor' 'Iris-virginica']\n"
          ]
        }
      ],
      "source": []
    }
  ],
  "metadata": {
    "colab": {
      "name": "DS 4 Anos Classificador 2.ipynb",
      "provenance": []
    },
    "kernelspec": {
      "display_name": "Python 3",
      "name": "python3"
    },
    "language_info": {
      "name": "python"
    }
  },
  "nbformat": 4,
  "nbformat_minor": 0
}
